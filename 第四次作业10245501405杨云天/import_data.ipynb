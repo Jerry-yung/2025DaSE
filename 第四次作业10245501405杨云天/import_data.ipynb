{
 "cells": [
  {
   "cell_type": "code",
   "execution_count": 61,
   "id": "3d966092",
   "metadata": {},
   "outputs": [],
   "source": [
    "import sqlite3\n",
    "import csv\n",
    "import os\n",
    "import pandas as pd"
   ]
  },
  {
   "cell_type": "code",
   "execution_count": null,
   "id": "ca314ee9",
   "metadata": {},
   "outputs": [],
   "source": [
    "DB_NAME = \"academic_ranking.db\" # SQLite数据库文件名\n",
    "CSV_DIR = \"csv\" # CSV文件目录\n",
    "SCHEMA_FILE = \"schema_sqlite.sql\" # schema_sqlite.sql文件路径"
   ]
  },
  {
   "cell_type": "markdown",
   "id": "a4ab8345",
   "metadata": {},
   "source": [
    "## 初始化数据库"
   ]
  },
  {
   "cell_type": "code",
   "execution_count": 63,
   "id": "dd92f5eb",
   "metadata": {},
   "outputs": [],
   "source": [
    "def init_database():\n",
    "    conn = sqlite3.connect(DB_NAME) # 连接数据库\n",
    "    with open(SCHEMA_FILE, 'r', encoding='utf-8') as f:\n",
    "        conn.executescript(f.read()) # 执行schema_sqlite.sql文件中的SQL语句\n",
    "    return conn"
   ]
  },
  {
   "cell_type": "markdown",
   "id": "e9b33051",
   "metadata": {},
   "source": [
    "## 获取或创建学科ID"
   ]
  },
  {
   "cell_type": "code",
   "execution_count": 64,
   "id": "6197cbcf",
   "metadata": {},
   "outputs": [],
   "source": [
    "def get_or_create_field(cursor, field_name):\n",
    "    cursor.execute(\"SELECT field_id FROM research_fields WHERE field_name = ?\", (field_name,))\n",
    "    result = cursor.fetchone()\n",
    "    if result:\n",
    "        return result[0]\n",
    "    cursor.execute(\"INSERT INTO research_fields (field_name) VALUES (?)\", (field_name,))\n",
    "    return cursor.lastrowid"
   ]
  },
  {
   "cell_type": "markdown",
   "id": "18a904fc",
   "metadata": {},
   "source": [
    "## 获取或创建机构ID"
   ]
  },
  {
   "cell_type": "code",
   "execution_count": 65,
   "id": "202a0a5c",
   "metadata": {},
   "outputs": [],
   "source": [
    "def get_or_create_institution(cursor, name, country):\n",
    "    cursor.execute(\n",
    "        \"SELECT institution_id FROM institutions WHERE institution_name = ? AND country_region = ?\",\n",
    "        (name, country)\n",
    "    )\n",
    "    result = cursor.fetchone()\n",
    "    if result:\n",
    "        return result[0]\n",
    "    # 判断是否为中国大陆，添加到机构表中\n",
    "    is_chinese = 1 if country == \"CHINA MAINLAND\" else 0\n",
    "    cursor.execute(\n",
    "        \"INSERT INTO institutions (institution_name, country_region, is_chinese_mainland) VALUES (?, ?, ?)\",\n",
    "        (name, country, is_chinese)\n",
    "    )\n",
    "    return cursor.lastrowid"
   ]
  },
  {
   "cell_type": "markdown",
   "id": "f7b80a89",
   "metadata": {},
   "source": [
    "## 导入单个CSV文件"
   ]
  },
  {
   "cell_type": "code",
   "execution_count": 66,
   "id": "9e427a7c",
   "metadata": {},
   "outputs": [],
   "source": [
    "def import_csv_file(cursor, csv_path, field_name):\n",
    "    field_id = get_or_create_field(cursor, field_name) # 获取或创建学科ID\n",
    "    with open(csv_path, 'r', encoding='utf-8', errors='ignore') as f:\n",
    "        lines = f.readlines()\n",
    "        reader = csv.DictReader(lines[1:]) # 从第3行开始读数据\n",
    "        for row in reader:\n",
    "            if not row.get('Institutions'): # 跳过空行或无效行\n",
    "                continue\n",
    "            # 清理数据（去除引号和空格）\n",
    "            rank = (row.get('') or '').strip().strip('\"')\n",
    "            institution = (row.get('Institutions') or '').strip().strip('\"')\n",
    "            country = (row.get('Countries/Regions') or '').strip().strip('\"')\n",
    "            wos_docs = (row.get('Web of Science Documents') or '').strip().strip('\"')\n",
    "            cites = (row.get('Cites') or '').strip().strip('\"')\n",
    "            cites_per_paper = (row.get('Cites/Paper') or '').strip().strip('\"')\n",
    "            top_papers = (row.get('Top Papers') or '').strip().strip('\"')\n",
    "\n",
    "            # 获取或创建机构\n",
    "            institution_id = get_or_create_institution(cursor, institution, country)\n",
    "            \n",
    "            # 插入排名数据\n",
    "            cursor.execute(\"\"\"\n",
    "                INSERT INTO ranking_data \n",
    "                (field_id, institution_id, rank_position, wos_documents, cites, cites_per_paper, top_papers)\n",
    "                VALUES (?, ?, ?, ?, ?, ?, ?)\n",
    "            \"\"\", (\n",
    "                field_id,\n",
    "                institution_id,\n",
    "                int(rank) if rank else 0, # 如果rank为空，则设置为0\n",
    "                int(wos_docs) if wos_docs else 0, # 如果wos_docs为空，则设置为0\n",
    "                int(cites) if cites else 0, # 如果cites为空，则设置为0\n",
    "                float(cites_per_paper) if cites_per_paper else 0.00, # 如果cites_per_paper为空，则设置为0.00\n",
    "                int(top_papers) if top_papers else 0 # 如果top_papers为空，则设置为0\n",
    "            ))"
   ]
  },
  {
   "cell_type": "code",
   "execution_count": 67,
   "id": "5dc33ba4",
   "metadata": {},
   "outputs": [
    {
     "name": "stdout",
     "output_type": "stream",
     "text": [
      "正在导入: Agricultural Sciences...\n",
      "正在导入: Immunology...\n",
      "正在导入: Materials Science...\n",
      "正在导入: Mathematics...\n",
      "正在导入: Microbiology...\n",
      "正在导入: Molecular Biology & Genetics...\n",
      "正在导入: Multidisciplinary...\n",
      "正在导入: Neuroscience & Behavior...\n",
      "正在导入: Pharmacology & Toxicology...\n",
      "正在导入: Physics...\n",
      "正在导入: Plant & Animal Science...\n",
      "正在导入: Biology & Biochemistry...\n",
      "正在导入: Psychiatry Psychology...\n",
      "正在导入: Social Sciences, General...\n",
      "正在导入: Space Science...\n",
      "正在导入: Chemistry...\n",
      "正在导入: Clinical Medicine...\n",
      "正在导入: Computer Science...\n",
      "正在导入: Economics & Business...\n",
      "正在导入: Engineering...\n",
      "正在导入: Environment Ecology...\n",
      "正在导入: Geosciences...\n",
      "导入完成！\n"
     ]
    }
   ],
   "source": [
    "# 初始化数据库\n",
    "conn = init_database()\n",
    "cursor = conn.cursor()\n",
    "\n",
    "# 获取22个学科的CSV文件（排除0-ALL.csv）\n",
    "csv_files = sorted([f for f in os.listdir(CSV_DIR) if f.endswith('.csv') and f != '0-ALL.csv'])\n",
    "\n",
    "# 导入每个CSV文件\n",
    "for csv_file in csv_files:\n",
    "    # 从文件名提取学科名称\n",
    "    field_name = csv_file.replace('.csv', '').split('-', 1)[1]\n",
    "    csv_path = os.path.join(CSV_DIR, csv_file)\n",
    "    \n",
    "    print(f\"正在导入: {field_name}...\")\n",
    "    import_csv_file(cursor, csv_path, field_name)\n",
    "    conn.commit()\n",
    "\n",
    "print(f\"导入完成！\")"
   ]
  },
  {
   "cell_type": "markdown",
   "id": "c4ba20a9",
   "metadata": {},
   "source": [
    "## 检查数据库内容"
   ]
  },
  {
   "cell_type": "code",
   "execution_count": 68,
   "id": "78bc3dc3",
   "metadata": {},
   "outputs": [
    {
     "name": "stdout",
     "output_type": "stream",
     "text": [
      "学科数量: 22\n"
     ]
    },
    {
     "data": {
      "text/html": [
       "<div>\n",
       "<style scoped>\n",
       "    .dataframe tbody tr th:only-of-type {\n",
       "        vertical-align: middle;\n",
       "    }\n",
       "\n",
       "    .dataframe tbody tr th {\n",
       "        vertical-align: top;\n",
       "    }\n",
       "\n",
       "    .dataframe thead th {\n",
       "        text-align: right;\n",
       "    }\n",
       "</style>\n",
       "<table border=\"1\" class=\"dataframe\">\n",
       "  <thead>\n",
       "    <tr style=\"text-align: right;\">\n",
       "      <th></th>\n",
       "      <th>field_id</th>\n",
       "      <th>field_name</th>\n",
       "    </tr>\n",
       "  </thead>\n",
       "  <tbody>\n",
       "    <tr>\n",
       "      <th>0</th>\n",
       "      <td>1</td>\n",
       "      <td>Agricultural Sciences</td>\n",
       "    </tr>\n",
       "    <tr>\n",
       "      <th>1</th>\n",
       "      <td>2</td>\n",
       "      <td>Immunology</td>\n",
       "    </tr>\n",
       "    <tr>\n",
       "      <th>2</th>\n",
       "      <td>3</td>\n",
       "      <td>Materials Science</td>\n",
       "    </tr>\n",
       "    <tr>\n",
       "      <th>3</th>\n",
       "      <td>4</td>\n",
       "      <td>Mathematics</td>\n",
       "    </tr>\n",
       "    <tr>\n",
       "      <th>4</th>\n",
       "      <td>5</td>\n",
       "      <td>Microbiology</td>\n",
       "    </tr>\n",
       "    <tr>\n",
       "      <th>5</th>\n",
       "      <td>6</td>\n",
       "      <td>Molecular Biology &amp; Genetics</td>\n",
       "    </tr>\n",
       "    <tr>\n",
       "      <th>6</th>\n",
       "      <td>7</td>\n",
       "      <td>Multidisciplinary</td>\n",
       "    </tr>\n",
       "    <tr>\n",
       "      <th>7</th>\n",
       "      <td>8</td>\n",
       "      <td>Neuroscience &amp; Behavior</td>\n",
       "    </tr>\n",
       "    <tr>\n",
       "      <th>8</th>\n",
       "      <td>9</td>\n",
       "      <td>Pharmacology &amp; Toxicology</td>\n",
       "    </tr>\n",
       "    <tr>\n",
       "      <th>9</th>\n",
       "      <td>10</td>\n",
       "      <td>Physics</td>\n",
       "    </tr>\n",
       "    <tr>\n",
       "      <th>10</th>\n",
       "      <td>11</td>\n",
       "      <td>Plant &amp; Animal Science</td>\n",
       "    </tr>\n",
       "    <tr>\n",
       "      <th>11</th>\n",
       "      <td>12</td>\n",
       "      <td>Biology &amp; Biochemistry</td>\n",
       "    </tr>\n",
       "    <tr>\n",
       "      <th>12</th>\n",
       "      <td>13</td>\n",
       "      <td>Psychiatry Psychology</td>\n",
       "    </tr>\n",
       "    <tr>\n",
       "      <th>13</th>\n",
       "      <td>14</td>\n",
       "      <td>Social Sciences, General</td>\n",
       "    </tr>\n",
       "    <tr>\n",
       "      <th>14</th>\n",
       "      <td>15</td>\n",
       "      <td>Space Science</td>\n",
       "    </tr>\n",
       "    <tr>\n",
       "      <th>15</th>\n",
       "      <td>16</td>\n",
       "      <td>Chemistry</td>\n",
       "    </tr>\n",
       "    <tr>\n",
       "      <th>16</th>\n",
       "      <td>17</td>\n",
       "      <td>Clinical Medicine</td>\n",
       "    </tr>\n",
       "    <tr>\n",
       "      <th>17</th>\n",
       "      <td>18</td>\n",
       "      <td>Computer Science</td>\n",
       "    </tr>\n",
       "    <tr>\n",
       "      <th>18</th>\n",
       "      <td>19</td>\n",
       "      <td>Economics &amp; Business</td>\n",
       "    </tr>\n",
       "    <tr>\n",
       "      <th>19</th>\n",
       "      <td>20</td>\n",
       "      <td>Engineering</td>\n",
       "    </tr>\n",
       "    <tr>\n",
       "      <th>20</th>\n",
       "      <td>21</td>\n",
       "      <td>Environment Ecology</td>\n",
       "    </tr>\n",
       "    <tr>\n",
       "      <th>21</th>\n",
       "      <td>22</td>\n",
       "      <td>Geosciences</td>\n",
       "    </tr>\n",
       "  </tbody>\n",
       "</table>\n",
       "</div>"
      ],
      "text/plain": [
       "    field_id                    field_name\n",
       "0          1         Agricultural Sciences\n",
       "1          2                    Immunology\n",
       "2          3             Materials Science\n",
       "3          4                   Mathematics\n",
       "4          5                  Microbiology\n",
       "5          6  Molecular Biology & Genetics\n",
       "6          7             Multidisciplinary\n",
       "7          8       Neuroscience & Behavior\n",
       "8          9     Pharmacology & Toxicology\n",
       "9         10                       Physics\n",
       "10        11        Plant & Animal Science\n",
       "11        12        Biology & Biochemistry\n",
       "12        13         Psychiatry Psychology\n",
       "13        14      Social Sciences, General\n",
       "14        15                 Space Science\n",
       "15        16                     Chemistry\n",
       "16        17             Clinical Medicine\n",
       "17        18              Computer Science\n",
       "18        19          Economics & Business\n",
       "19        20                   Engineering\n",
       "20        21           Environment Ecology\n",
       "21        22                   Geosciences"
      ]
     },
     "execution_count": 68,
     "metadata": {},
     "output_type": "execute_result"
    }
   ],
   "source": [
    "conn = sqlite3.connect(\"academic_ranking.db\") # 连接\n",
    "\n",
    "def sql2pd(sql):\n",
    "    return pd.read_sql_query(sql, conn) # 将sql查询结果转换为DataFrame\n",
    "\n",
    "# 查看所有学科\n",
    "fields_df = sql2pd(\"SELECT * FROM research_fields ORDER BY field_id\")\n",
    "print(f\"学科数量: {len(fields_df)}\")\n",
    "fields_df"
   ]
  },
  {
   "cell_type": "code",
   "execution_count": 70,
   "id": "5182becf",
   "metadata": {},
   "outputs": [
    {
     "name": "stdout",
     "output_type": "stream",
     "text": [
      "机构统计:\n"
     ]
    },
    {
     "data": {
      "text/html": [
       "<div>\n",
       "<style scoped>\n",
       "    .dataframe tbody tr th:only-of-type {\n",
       "        vertical-align: middle;\n",
       "    }\n",
       "\n",
       "    .dataframe tbody tr th {\n",
       "        vertical-align: top;\n",
       "    }\n",
       "\n",
       "    .dataframe thead th {\n",
       "        text-align: right;\n",
       "    }\n",
       "</style>\n",
       "<table border=\"1\" class=\"dataframe\">\n",
       "  <thead>\n",
       "    <tr style=\"text-align: right;\">\n",
       "      <th></th>\n",
       "      <th>total</th>\n",
       "      <th>chinese_mainland</th>\n",
       "      <th>countries</th>\n",
       "    </tr>\n",
       "  </thead>\n",
       "  <tbody>\n",
       "    <tr>\n",
       "      <th>0</th>\n",
       "      <td>9990</td>\n",
       "      <td>859</td>\n",
       "      <td>140</td>\n",
       "    </tr>\n",
       "  </tbody>\n",
       "</table>\n",
       "</div>"
      ],
      "text/plain": [
       "   total  chinese_mainland  countries\n",
       "0   9990               859        140"
      ]
     },
     "execution_count": 70,
     "metadata": {},
     "output_type": "execute_result"
    }
   ],
   "source": [
    "# 查看机构统计\n",
    "institutions = sql2pd(\"\"\"\n",
    "    SELECT \n",
    "        COUNT(*) as total,\n",
    "        COUNT(CASE WHEN is_chinese_mainland = 1 THEN 1 END) as chinese_mainland,\n",
    "        COUNT(DISTINCT country_region) as countries\n",
    "    FROM institutions\n",
    "\"\"\")\n",
    "print(\"机构统计:\")\n",
    "institutions"
   ]
  }
 ],
 "metadata": {
  "kernelspec": {
   "display_name": ".venv",
   "language": "python",
   "name": "python3"
  },
  "language_info": {
   "codemirror_mode": {
    "name": "ipython",
    "version": 3
   },
   "file_extension": ".py",
   "mimetype": "text/x-python",
   "name": "python",
   "nbconvert_exporter": "python",
   "pygments_lexer": "ipython3",
   "version": "3.12.6"
  }
 },
 "nbformat": 4,
 "nbformat_minor": 5
}
