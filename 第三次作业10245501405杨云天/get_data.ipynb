{
 "cells": [
  {
   "cell_type": "code",
   "execution_count": null,
   "id": "1941b984",
   "metadata": {},
   "outputs": [],
   "source": [
    "url = 'https://esi.clarivate.com/IndicatorsAction.action'\n",
    "headers = {\n",
    "    'user-agent': 'Mozilla/5.0 (Macintosh; Intel Mac OS X 10_15_7) AppleWebKit/537.36 (KHTML, like Gecko) Chrome/139.0.0.0 Safari/537.36',\n",
    "    'cookie': 'Z3wGuJE.0yVXMlhE4mikzAi7Tu29pLBDSNxKQd2zTlA-1760058186-1.0.1.1-l4ZJ.uEjI7fmkjTBRPZlechEQNOfUe939IOkAISYKBWbalRlMABgGYWnwSDdD9snr6LEdOpQXyiX1sU2OPOYrOGSDOkWmIbxQr3VvY27snM'\n",
    "}\n",
    "# ESI学科名称列表\n",
    "ESI_SUBJECTS = [\n",
    "    \"Agricultural Sciences\",\n",
    "    \"Biology & Biochemistry\",\n",
    "    \"Chemistry\",\n",
    "    \"Clinical Medicine\",\n",
    "    \"Computer Science\",\n",
    "    \"Economics & Business\",\n",
    "    \"Engineering\",\n",
    "    \"Environment/Ecology\",\n",
    "    \"Geosciences\",\n",
    "    \"Immunology\",\n",
    "    \"Materials Science\",\n",
    "    \"Mathematics\",\n",
    "    \"Microbiology\",\n",
    "    \"Molecular Biology & Genetics\",\n",
    "    \"Multidisciplinary\",\n",
    "    \"Neuroscience & Behavior\",\n",
    "    \"Pharmacology & Toxicology\",\n",
    "    \"Physics\",\n",
    "    \"Plant & Animal Science\",\n",
    "    \"Psychiatry Psychology\",\n",
    "    \"Social Sciences, General\",\n",
    "    \"Space Science\"\n",
    "]"
   ]
  },
  {
   "cell_type": "code",
   "execution_count": null,
   "id": "02567e2a",
   "metadata": {},
   "outputs": [
    {
     "name": "stdout",
     "output_type": "stream",
     "text": [
      "<Response [200]>\n",
      "7678\n"
     ]
    }
   ],
   "source": [
    "import requests\n",
    "from bs4 import BeautifulSoup\n",
    "import os\n",
    "\n",
    "s = requests.Session() # 创建会话\n",
    "resp = s.get(url, headers=headers) # 发送请求\n",
    "print(resp) # 200 表示请求成功\n",
    "print(len(resp.text))"
   ]
  },
  {
   "cell_type": "code",
   "execution_count": null,
   "id": "ee6d54ce",
   "metadata": {},
   "outputs": [
    {
     "name": "stdout",
     "output_type": "stream",
     "text": [
      "完成对 1-Agricultural Sciences.csv 的下载\n",
      "完成对 2-Biology & Biochemistry.csv 的下载\n",
      "完成对 3-Chemistry.csv 的下载\n",
      "完成对 4-Clinical Medicine.csv 的下载\n",
      "完成对 5-Computer Science.csv 的下载\n",
      "完成对 6-Economics & Business.csv 的下载\n",
      "完成对 7-Engineering.csv 的下载\n",
      "完成对 8-Environment Ecology.csv 的下载\n",
      "完成对 9-Geosciences.csv 的下载\n",
      "完成对 10-Immunology.csv 的下载\n",
      "完成对 11-Materials Science.csv 的下载\n",
      "完成对 12-Mathematics.csv 的下载\n",
      "完成对 13-Microbiology.csv 的下载\n",
      "完成对 14-Molecular Biology & Genetics.csv 的下载\n",
      "完成对 15-Multidisciplinary.csv 的下载\n",
      "完成对 16-Neuroscience & Behavior.csv 的下载\n",
      "完成对 17-Pharmacology & Toxicology.csv 的下载\n",
      "完成对 18-Physics.csv 的下载\n",
      "完成对 19-Plant & Animal Science.csv 的下载\n",
      "完成对 20-Psychiatry Psychology.csv 的下载\n",
      "完成对 21-Social Sciences, General.csv 的下载\n",
      "完成对 22-Space Science.csv 的下载\n",
      "成功下载了22个文件\n"
     ]
    }
   ],
   "source": [
    "soup = BeautifulSoup(resp.text, 'lxml') # 解析响应内容\n",
    "text = soup.find_all(\"div\", class_ = \"checkbox-2columns filter-values\") # 找到标签\n",
    "\n",
    "# 下载\n",
    "sum = 0\n",
    "def download_csv(url, file_name, download_path, index):\n",
    "    global sum\n",
    "    response = requests.get(url, headers=headers)\n",
    "    if (response.status_code == 200):\n",
    "        sum += 1\n",
    "        # 学科名称首字母大写其他小写\n",
    "        formatted_name = file_name.replace('/', ' ').title()\n",
    "        # 文件名格式：x-学科名称.csv\n",
    "        file_name = f\"{index}-{formatted_name}.csv\"\n",
    "        with open(download_path + file_name, \"wb\") as file:\n",
    "            file.write(response.content)\n",
    "        print(f'完成对 {file_name} 的下载')\n",
    "    else:\n",
    "        print(f'未能将 {file_name} 成功下载，状态码：{response.status_code}')\n",
    "\n",
    "categories_name = ''\n",
    "download_path = 'csv/'\n",
    "\n",
    "os.makedirs(download_path, exist_ok=True)\n",
    "\n",
    "index = 1  # 学科编号计数器\n",
    "# 遍历22个学科并下载\n",
    "for name in ESI_SUBJECTS:\n",
    "    download_name = name.replace('&', '%26')\n",
    "    download_name_upper = download_name.upper()\n",
    "    s1 = '&show=Top&sort=%5B%7B%22property%22:%22cites%22,%22direction%22:%22DESC%22%7D%5D&colFilterVal=&exportType=indicators&colNames=RowSeq,,Institutions,Countries/Regions,Web%20of%20Science%20Documents,Cites,Cites/Paper,Top%20Papers&fileType=CSV&f=IndicatorsExport.csv'\n",
    "    file_url = 'https://esi.clarivate.com/IndicatorsExport.action?exportFile&_dc=1368621151464&groupBy=Institutions&start=0&limit=1381&filterBy=ResearchFields&filterValue=' + download_name_upper + s1\n",
    "    download_csv(file_url, name, download_path, index)\n",
    "    index += 1\n",
    "print('成功下载了' + str(sum) + '个文件')"
   ]
  }
 ],
 "metadata": {
  "kernelspec": {
   "display_name": ".venv",
   "language": "python",
   "name": "python3"
  },
  "language_info": {
   "codemirror_mode": {
    "name": "ipython",
    "version": 3
   },
   "file_extension": ".py",
   "mimetype": "text/x-python",
   "name": "python",
   "nbconvert_exporter": "python",
   "pygments_lexer": "ipython3",
   "version": "3.12.6"
  }
 },
 "nbformat": 4,
 "nbformat_minor": 5
}
